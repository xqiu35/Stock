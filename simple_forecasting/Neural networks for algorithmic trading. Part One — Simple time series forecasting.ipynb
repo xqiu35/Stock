{
 "cells": [
  {
   "cell_type": "markdown",
   "metadata": {},
   "source": [
    "# Neural networks for algorithmic trading. \n",
    "# Part 1. Simple time series forecasting\n"
   ]
  },
  {
   "cell_type": "markdown",
   "metadata": {
    "collapsed": true
   },
   "source": [
    "\n",
    "Ciao, people!\n",
    "\n",
    "This is first part of my experiments on application of deep learning to finance, in particular to algorithmic trading.\n",
    "I want to implement trading system from scratch based only on deep learning approaches, so for any problem we have here (price prediction, trading strategy, risk management) we gonna use different variations of artificial neural networks (ANNs) and check how well they can handle this.\n",
    "\n",
    "In this, first part, I want to show how MLPs, CNNs and RNNs can be used for financial time series prediction. In this part we are not going to use any feature engineering. Let's just consider historical dataset of S&P500 index price movements. We have information from 2050 to 2016 about open, close, high, low prices for every day in the year and volume of trades. First, we will try just to predict close price in the end of the next day, second, we will try to predict return (close price - open price).\n",
    "\n",
    "We will consider our problem as 1) regression problem (trying to forecast exactly close price or return next day) 2) binary classification problem (price will go up [1; 0] or down [0; 1]). "
   ]
  },
  {
   "cell_type": "code",
   "execution_count": 233,
   "metadata": {
    "collapsed": false
   },
   "outputs": [],
   "source": [
    "import numpy as np\n",
    "from sklearn import preprocessing\n",
    "from sklearn.metrics import mean_squared_error, classification_report\n",
    "import matplotlib.pylab as plt\n",
    "import datetime as dt\n",
    "import time\n",
    "\n",
    "from keras.models import Sequential, Graph\n",
    "from keras.layers.core import Dense, Dropout, Activation, Flatten\n",
    "from keras.layers.recurrent import LSTM, GRU\n",
    "from keras.layers import Convolution1D, MaxPooling1D\n",
    "\n",
    "%matplotlib inline  "
   ]
  },
  {
   "cell_type": "markdown",
   "metadata": {},
   "source": []
  },
  {
   "cell_type": "code",
   "execution_count": 138,
   "metadata": {
    "collapsed": false
   },
   "outputs": [],
   "source": [
    "def load_snp_returns():\n",
    "    f = open('table.csv', 'rb').readlines()[1:]\n",
    "    raw_data = []\n",
    "    raw_dates = []\n",
    "    for line in f:\n",
    "        try:\n",
    "            open_price = float(line.split(',')[1])\n",
    "            close_price = float(line.split(',')[4])\n",
    "            raw_data.append(close_price - open_price)\n",
    "            raw_dates.append(line.split(',')[0])\n",
    "        except:\n",
    "            continue\n",
    "\n",
    "    return raw_data[::-1], raw_dates[::-1]\n",
    "\n",
    "\n",
    "def load_snp_close():\n",
    "    f = open('table.csv', 'rb').readlines()[1:]\n",
    "    raw_data = []\n",
    "    raw_dates = []\n",
    "    for line in f:\n",
    "        try:\n",
    "            close_price = float(line.split(',')[4])\n",
    "            raw_data.append(close_price)\n",
    "            raw_dates.append(line.split(',')[0])\n",
    "        except:\n",
    "            continue\n",
    "\n",
    "    return raw_data, raw_dates\n",
    "\n",
    "\n",
    "def split_into_chunks(data, train, predict, step, binary=True, scale=True):\n",
    "    X, Y = [], []\n",
    "    for i in range(0, len(data), step):\n",
    "        try:\n",
    "            x_i = data[i:i+train]\n",
    "            y_i = data[i+train+predict]\n",
    "            \n",
    "            # Use it only for daily return time series\n",
    "            if binary:\n",
    "                if y_i > 0.:\n",
    "                    y_i = [1., 0.]\n",
    "                else:\n",
    "                    y_i = [0., 1.]\n",
    "\n",
    "                if scale: x_i = preprocessing.scale(x_i)\n",
    "                \n",
    "            else:\n",
    "                timeseries = np.array(data[i:i+train+predict])\n",
    "                if scale: timeseries = preprocessing.scale(timeseries)\n",
    "                x_i = timeseries[:-1]\n",
    "                y_i = timeseries[-1]\n",
    "            \n",
    "        except:\n",
    "            break\n",
    "\n",
    "        X.append(x_i)\n",
    "        Y.append(y_i)\n",
    "\n",
    "    return X, Y\n",
    "\n",
    "\n",
    "def shuffle_in_unison(a, b):\n",
    "    # courtsey http://stackoverflow.com/users/190280/josh-bleecher-snyder\n",
    "    assert len(a) == len(b)\n",
    "    shuffled_a = np.empty(a.shape, dtype=a.dtype)\n",
    "    shuffled_b = np.empty(b.shape, dtype=b.dtype)\n",
    "    permutation = np.random.permutation(len(a))\n",
    "    for old_index, new_index in enumerate(permutation):\n",
    "        shuffled_a[new_index] = a[old_index]\n",
    "        shuffled_b[new_index] = b[old_index]\n",
    "    return shuffled_a, shuffled_b\n",
    "\n",
    "\n",
    "def create_Xt_Yt(X, y, percentage=0.8):\n",
    "    X_train = X[0:len(X) * percentage]\n",
    "    Y_train = y[0:len(y) * percentage]\n",
    "    \n",
    "    X_train, Y_train = shuffle_in_unison(X_train, Y_train)\n",
    "\n",
    "    X_test = X[len(X) * percentage:]\n",
    "    Y_test = y[len(X) * percentage:]\n",
    "\n",
    "    return X_train, X_test, Y_train, Y_test"
   ]
  },
  {
   "cell_type": "code",
   "execution_count": 197,
   "metadata": {
    "collapsed": false
   },
   "outputs": [
    {
     "data": {
      "text/plain": [
       "[<matplotlib.lines.Line2D at 0x2bc48048>]"
      ]
     },
     "execution_count": 197,
     "metadata": {},
     "output_type": "execute_result"
    },
    {
     "data": {
      "image/png": "[encoded data removed]",
      "text/plain": [
       "<matplotlib.figure.Figure at 0x24ff20f0>"
      ]
     },
     "metadata": {},
     "output_type": "display_data"
    }
   ],
   "source": [
    "timeseries, dates = load_snp_close()\n",
    "dates = [dt.datetime.strptime(d,'%Y-%m-%d').date() for d in dates]\n",
    "plt.plot(dates, timeseries)"
   ]
  },
  {
   "cell_type": "code",
   "execution_count": 212,
   "metadata": {
    "collapsed": false
   },
   "outputs": [
    {
     "name": "stderr",
     "output_type": "stream",
     "text": [
      "C:\\Users\\Alex\\Anaconda2\\lib\\site-packages\\ipykernel\\__main__.py:75: DeprecationWarning: using a non-integer number instead of an integer will result in an error in the future\n",
      "C:\\Users\\Alex\\Anaconda2\\lib\\site-packages\\ipykernel\\__main__.py:76: DeprecationWarning: using a non-integer number instead of an integer will result in an error in the future\n",
      "C:\\Users\\Alex\\Anaconda2\\lib\\site-packages\\ipykernel\\__main__.py:80: DeprecationWarning: using a non-integer number instead of an integer will result in an error in the future\n",
      "C:\\Users\\Alex\\Anaconda2\\lib\\site-packages\\ipykernel\\__main__.py:81: DeprecationWarning: using a non-integer number instead of an integer will result in an error in the future\n"
     ]
    }
   ],
   "source": [
    "TRAIN_SIZE = 20\n",
    "TARGET_TIME = 1\n",
    "LAG_SIZE = 1\n",
    "EMB_SIZE = 1\n",
    "\n",
    "X, Y = split_into_chunks(timeseries, TRAIN_SIZE, TARGET_TIME, LAG_SIZE, binary=False, scale=False)\n",
    "X, Y = np.array(X), np.array(Y)\n",
    "X_train, X_test, Y_train, Y_test = create_Xt_Yt(X, Y, percentage=0.9)\n",
    "\n",
    "Xp, Yp = split_into_chunks(timeseries, TRAIN_SIZE, TARGET_TIME, LAG_SIZE, binary=False, scale=False)\n",
    "Xp, Yp = np.array(Xp), np.array(Yp)\n",
    "X_trainp, X_testp, Y_trainp, Y_testp = create_Xt_Yt(Xp, Yp, percentage=0.9)\n"
   ]
  },
  {
   "cell_type": "code",
   "execution_count": 214,
   "metadata": {
    "collapsed": false
   },
   "outputs": [
    {
     "name": "stdout",
     "output_type": "stream",
     "text": [
      "Train on 13513 samples, validate on 1502 samples\n",
      "Epoch 1/5\n",
      "13513/13513 [==============================] - 1s - loss: 21956.6563 - val_loss: 559.9372\n",
      "Epoch 2/5\n",
      "13513/13513 [==============================] - 1s - loss: 2120.2783 - val_loss: 3386.9540\n",
      "Epoch 3/5\n",
      "13513/13513 [==============================] - 1s - loss: 1571.4650 - val_loss: 6160.9140\n",
      "Epoch 4/5\n",
      "13513/13513 [==============================] - 1s - loss: 1285.6179 - val_loss: 5060.5761\n",
      "Epoch 5/5\n",
      "13513/13513 [==============================] - 1s - loss: 1252.6140 - val_loss: 11446.3743\n",
      "1669/1669 [==============================] - 0s     \n",
      "15.8135624155\n"
     ]
    }
   ],
   "source": [
    "#X_train = np.reshape(X_train, (X_train.shape[0], X_train.shape[1], EMB_SIZE))\n",
    "#X_test = np.reshape(X_test, (X_test.shape[0], X_test.shape[1], EMB_SIZE))\n",
    "\n",
    "model = Sequential()\n",
    "model.add(Dense(500, input_shape = (TRAIN_SIZE, )))\n",
    "model.add(Activation('relu'))\n",
    "model.add(Dropout(0.25))\n",
    "model.add(Dense(250))\n",
    "model.add(Activation('relu'))\n",
    "model.add(Dense(1))\n",
    "model.add(Activation('linear'))\n",
    "model.compile(optimizer='adam', \n",
    "              loss='mse')\n",
    "\n",
    "model.fit(X_train, \n",
    "          Y_train, \n",
    "          nb_epoch=5, \n",
    "          batch_size = 128, \n",
    "          verbose=1, \n",
    "          validation_split=0.1)\n",
    "score = model.evaluate(X_test, Y_test, batch_size=128)\n",
    "print score"
   ]
  },
  {
   "cell_type": "code",
   "execution_count": 215,
   "metadata": {
    "collapsed": false
   },
   "outputs": [
    {
     "name": "stdout",
     "output_type": "stream",
     "text": [
      "358.856648629\n"
     ]
    },
    {
     "data": {
      "image/png": "[encoded data removed]",
      "text/plain": [
       "<matplotlib.figure.Figure at 0x247547f0>"
      ]
     },
     "metadata": {},
     "output_type": "display_data"
    }
   ],
   "source": [
    "params = []\n",
    "for xt in X_testp:\n",
    "    xt = np.array(xt)\n",
    "    mean_ = xt.mean()\n",
    "    scale_ = xt.std()\n",
    "    params.append([mean_, scale_])\n",
    "\n",
    "predicted = model.predict(X_test)\n",
    "new_predicted = []\n",
    "\n",
    "for pred, par in zip(predicted, params):\n",
    "    a = pred*par[1]\n",
    "    a += par[0]\n",
    "    new_predicted.append(a)\n",
    "    \n",
    "\n",
    "mse = mean_squared_error(predicted, new_predicted)\n",
    "print mse\n",
    "\n",
    "try:\n",
    "    fig = plt.figure(figsize=(width, height))\n",
    "    plt.plot(Y_test[:150], color='black') # BLUE - trained RESULT\n",
    "    plt.plot(predicted[:150], color='blue') # RED - trained PREDICTION\n",
    "    #plt.plot(Y_testp[:150], color='green') # GREEN - actual RESULT\n",
    "    #plt.plot(new_predicted[:150], color='red') # ORANGE - restored PREDICTION\n",
    "    plt.show()\n",
    "except Exception as e:\n",
    "    print str(e)"
   ]
  },
  {
   "cell_type": "code",
   "execution_count": 216,
   "metadata": {
    "collapsed": false
   },
   "outputs": [
    {
     "data": {
      "text/plain": [
       "[<matplotlib.lines.Line2D at 0x20a23cc0>]"
      ]
     },
     "execution_count": 216,
     "metadata": {},
     "output_type": "execute_result"
    },
    {
     "data": {
      "image/png": "[encoded data removed]",
      "text/plain": [
       "<matplotlib.figure.Figure at 0x26254da0>"
      ]
     },
     "metadata": {},
     "output_type": "display_data"
    }
   ],
   "source": [
    "timeseries, dates = load_snp_returns()\n",
    "dates = [dt.datetime.strptime(d,'%Y-%m-%d').date() for d in dates]\n",
    "plt.plot(dates, timeseries)"
   ]
  },
  {
   "cell_type": "code",
   "execution_count": 273,
   "metadata": {
    "collapsed": false
   },
   "outputs": [
    {
     "name": "stdout",
     "output_type": "stream",
     "text": [
      "16684 16684\n"
     ]
    },
    {
     "name": "stderr",
     "output_type": "stream",
     "text": [
      "C:\\Users\\Alex\\Anaconda2\\lib\\site-packages\\ipykernel\\__main__.py:75: DeprecationWarning: using a non-integer number instead of an integer will result in an error in the future\n",
      "C:\\Users\\Alex\\Anaconda2\\lib\\site-packages\\ipykernel\\__main__.py:76: DeprecationWarning: using a non-integer number instead of an integer will result in an error in the future\n",
      "C:\\Users\\Alex\\Anaconda2\\lib\\site-packages\\ipykernel\\__main__.py:80: DeprecationWarning: using a non-integer number instead of an integer will result in an error in the future\n",
      "C:\\Users\\Alex\\Anaconda2\\lib\\site-packages\\ipykernel\\__main__.py:81: DeprecationWarning: using a non-integer number instead of an integer will result in an error in the future\n"
     ]
    }
   ],
   "source": [
    "TRAIN_SIZE = 20\n",
    "TARGET_TIME = 1\n",
    "LAG_SIZE = 1\n",
    "EMB_SIZE = 1\n",
    "\n",
    "X, Y = split_into_chunks(timeseries, TRAIN_SIZE, TARGET_TIME, LAG_SIZE, binary=True, scale=True)\n",
    "\n",
    "print len(X), len(Y)\n",
    "\n",
    "X, Y = np.array(X), np.array(Y)\n",
    "X_train, X_test, Y_train, Y_test = create_Xt_Yt(X, Y, percentage=0.9)"
   ]
  },
  {
   "cell_type": "code",
   "execution_count": 279,
   "metadata": {
    "collapsed": false
   },
   "outputs": [],
   "source": [
    "X_train = np.reshape(X_train, (X_train.shape[0], X_train.shape[1], EMB_SIZE))\n",
    "X_test = np.reshape(X_test, (X_test.shape[0], X_test.shape[1], EMB_SIZE))\n",
    "\n",
    "model = Sequential()\n",
    "\n",
    "model.add(LSTM(input_shape = (EMB_SIZE,), input_dim=EMB_SIZE, output_dim=HIDDEN_RNN, return_sequences=True))\n",
    "model.add(LSTM(input_shape = (EMB_SIZE,), input_dim=EMB_SIZE, output_dim=HIDDEN_RNN, return_sequences=False))\n",
    "\n",
    "model.add(Dense(2))\n",
    "model.add(Activation('softmax'))\n",
    "model.compile(optimizer='adam', \n",
    "              loss='mse',\n",
    "              metrics=['accuracy'])"
   ]
  },
  {
   "cell_type": "code",
   "execution_count": 280,
   "metadata": {
    "collapsed": false
   },
   "outputs": [
    {
     "name": "stdout",
     "output_type": "stream",
     "text": [
      "Train on 13513 samples, validate on 1502 samples\n",
      "Epoch 1/5\n",
      "13513/13513 [==============================] - 18s - loss: 0.2130 - acc: 0.5988 - val_loss: 0.2021 - val_acc: 0.5992\n",
      "Epoch 2/5\n",
      "13513/13513 [==============================] - 18s - loss: 0.2004 - acc: 0.6142 - val_loss: 0.2010 - val_acc: 0.5959\n",
      "Epoch 3/5\n",
      "13513/13513 [==============================] - 21s - loss: 0.1998 - acc: 0.6183 - val_loss: 0.2013 - val_acc: 0.5959\n",
      "Epoch 4/5\n",
      "13513/13513 [==============================] - 17s - loss: 0.1995 - acc: 0.6221 - val_loss: 0.2012 - val_acc: 0.5965\n",
      "Epoch 5/5\n",
      "13513/13513 [==============================] - 18s - loss: 0.1996 - acc: 0.6160 - val_loss: 0.2017 - val_acc: 0.5965\n",
      "1669/1669 [==============================] - 0s     \n",
      "[0.24823409688551315, 0.54523666868172693]\n"
     ]
    }
   ],
   "source": [
    "model.fit(X_train, \n",
    "          Y_train, \n",
    "          nb_epoch=5, \n",
    "          batch_size = 128, \n",
    "          verbose=1, \n",
    "          validation_split=0.1)\n",
    "\n",
    "\n",
    "score = model.evaluate(X_test, Y_test, batch_size=128)\n",
    "print score"
   ]
  },
  {
   "cell_type": "code",
   "execution_count": 294,
   "metadata": {
    "collapsed": false
   },
   "outputs": [
    {
     "name": "stderr",
     "output_type": "stream",
     "text": [
      "C:\\Users\\Alex\\Anaconda2\\lib\\site-packages\\ipykernel\\__main__.py:75: DeprecationWarning: using a non-integer number instead of an integer will result in an error in the future\n",
      "C:\\Users\\Alex\\Anaconda2\\lib\\site-packages\\ipykernel\\__main__.py:76: DeprecationWarning: using a non-integer number instead of an integer will result in an error in the future\n",
      "C:\\Users\\Alex\\Anaconda2\\lib\\site-packages\\ipykernel\\__main__.py:80: DeprecationWarning: using a non-integer number instead of an integer will result in an error in the future\n",
      "C:\\Users\\Alex\\Anaconda2\\lib\\site-packages\\ipykernel\\__main__.py:81: DeprecationWarning: using a non-integer number instead of an integer will result in an error in the future\n"
     ]
    },
    {
     "name": "stdout",
     "output_type": "stream",
     "text": [
      "Training...\n",
      "Prediction...\n",
      "Classification report for classifier SVC(C=1.0, cache_size=200, class_weight=None, coef0=0.0,\n",
      "  decision_function_shape=None, degree=3, gamma='auto', kernel='rbf',\n",
      "  max_iter=-1, probability=False, random_state=None, shrinking=True,\n",
      "  tol=0.001, verbose=False):\n",
      "             precision    recall  f1-score   support\n",
      "\n",
      "          0       0.54      0.65      0.59       913\n",
      "          1       0.43      0.32      0.37       756\n",
      "\n",
      "avg / total       0.49      0.50      0.49      1669\n",
      "\n",
      "\n"
     ]
    }
   ],
   "source": [
    "timeseries, dates = load_snp_returns()\n",
    "X, Y = split_into_chunks(timeseries, TRAIN_SIZE, TARGET_TIME, LAG_SIZE, binary=True)\n",
    "X, Y = np.array(X), np.array(Y)\n",
    "X_train, X_test, Y_train, Y_test = create_Xt_Yt(X, Y, percentage=0.9)\n",
    "\n",
    "Y_train, Y_test = np.array([y.argmax() for y in Y_train]), np.array([y.argmax() for y in Y_test])\n",
    "\n",
    "\n",
    "from sklearn.ensemble import RandomForestClassifier \n",
    "from sklearn import metrics, svm\n",
    "from sklearn import linear_model\n",
    "\n",
    "print 'Training...'\n",
    "\n",
    "#classifier = RandomForestClassifier(n_estimators = 100,\n",
    "#                               n_jobs=4,\n",
    "#                               verbose=1)\n",
    "\n",
    "#classifier = linear_model.LogisticRegression(C=1e-5)\n",
    "\n",
    "classifier = svm.SVC()\n",
    "classifier.fit(X_train, Y_train)\n",
    "\n",
    "print 'Prediction...'\n",
    "predicted = classifier.predict(X_test)\n",
    "print(\"Classification report for classifier %s:\\n%s\\n\"\n",
    "      % (classifier, metrics.classification_report(Y_test, predicted)))"
   ]
  },
  {
   "cell_type": "code",
   "execution_count": null,
   "metadata": {
    "collapsed": true
   },
   "outputs": [],
   "source": []
  }
 ],
 "metadata": {
  "kernelspec": {
   "display_name": "Python 2",
   "language": "python",
   "name": "python2"
  },
  "language_info": {
   "codemirror_mode": {
    "name": "ipython",
    "version": 2
   },
   "file_extension": ".py",
   "mimetype": "text/x-python",
   "name": "python",
   "nbconvert_exporter": "python",
   "pygments_lexer": "ipython2",
   "version": "2.7.11"
  }
 },
 "nbformat": 4,
 "nbformat_minor": 0
}
